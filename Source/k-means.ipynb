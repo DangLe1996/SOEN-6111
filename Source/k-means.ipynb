{
 "cells": [
  {
   "cell_type": "code",
   "execution_count": 1,
   "id": "greater-charge",
   "metadata": {},
   "outputs": [],
   "source": [
    "from urllib.request import urlopen\n",
    "import json\n",
    "from sklearn.cluster import KMeans\n",
    "from sklearn.metrics import silhouette_score, davies_bouldin_score"
   ]
  },
  {
   "cell_type": "code",
   "execution_count": 2,
   "id": "ultimate-spyware",
   "metadata": {},
   "outputs": [],
   "source": [
    "with urlopen('https://raw.githubusercontent.com/plotly/datasets/master/geojson-counties-fips.json') as response:\n",
    "    counties = json.load(response)\n"
   ]
  },
  {
   "cell_type": "code",
   "execution_count": 3,
   "id": "international-stylus",
   "metadata": {},
   "outputs": [],
   "source": [
    "import pandas as pd\n",
    "data = pd.read_csv('covid_confirmed_usafacts.csv')\n"
   ]
  },
  {
   "cell_type": "code",
   "execution_count": 4,
   "id": "relative-ferry",
   "metadata": {},
   "outputs": [],
   "source": [
    "df1 = data.iloc[:, 4:]"
   ]
  },
  {
   "cell_type": "code",
   "execution_count": 5,
   "id": "broad-queue",
   "metadata": {},
   "outputs": [
    {
     "data": {
      "text/plain": [
       "array([[-5.42101086e-20, -5.42101086e-20, -1.08420217e-19, ...,\n",
       "         5.08986140e+04,  5.11009123e+04,  5.13346842e+04],\n",
       "       [ 0.00000000e+00,  0.00000000e+00,  2.50000000e-01, ...,\n",
       "         5.92751750e+05,  5.95819250e+05,  5.98368250e+05],\n",
       "       [ 0.00000000e+00,  0.00000000e+00,  0.00000000e+00, ...,\n",
       "         1.11319353e+05,  1.12007412e+05,  1.12534353e+05],\n",
       "       ...,\n",
       "       [ 2.70270270e-02,  2.70270270e-02,  2.70270270e-02, ...,\n",
       "         7.43194595e+04,  7.46011081e+04,  7.48768378e+04],\n",
       "       [-2.71050543e-19, -2.71050543e-19, -5.42101086e-19, ...,\n",
       "         4.00556027e+03,  4.02027397e+03,  4.04766301e+03],\n",
       "       [-2.71050543e-19, -2.71050543e-19, -5.42101086e-19, ...,\n",
       "         9.29051971e+03,  9.32968817e+03,  9.36240502e+03]])"
      ]
     },
     "execution_count": 5,
     "metadata": {},
     "output_type": "execute_result"
    }
   ],
   "source": [
    "km = KMeans(n_clusters=10, init='random', n_init=1, max_iter=300, random_state=0)\n",
    "km.fit(df1)\n",
    "km.labels_\n",
    "km.cluster_centers_"
   ]
  },
  {
   "cell_type": "code",
   "execution_count": 6,
   "id": "earlier-locking",
   "metadata": {},
   "outputs": [],
   "source": [
    "data['classification'] = km.labels_.tolist()\n",
    "\n",
    "\n",
    "\n",
    "new_df = data[['countyFIPS', 'classification']]"
   ]
  },
  {
   "cell_type": "code",
   "execution_count": 7,
   "id": "distributed-header",
   "metadata": {},
   "outputs": [
    {
     "name": "stdout",
     "output_type": "stream",
     "text": [
      "silihouette_score0.5449030876704378\n",
      "davies_bouldin_score0.7784618742254332\n"
     ]
    }
   ],
   "source": [
    "silihouette_score = silhouette_score(df1, km.labels_, metric='euclidean')\n",
    "\n",
    "print(\"silihouette_score\"+str(silihouette_score))\n",
    "\n",
    "davies_bouldin_score = davies_bouldin_score(df1, km.labels_)\n",
    "print(\"davies_bouldin_score\"+str(davies_bouldin_score))"
   ]
  },
  {
   "cell_type": "code",
   "execution_count": 8,
   "id": "owned-kidney",
   "metadata": {},
   "outputs": [],
   "source": [
    "import plotly.express as px"
   ]
  },
  {
   "cell_type": "code",
   "execution_count": null,
   "id": "attached-carter",
   "metadata": {},
   "outputs": [],
   "source": [
    "fig = px.choropleth(new_df, geojson=counties, locations='countyFIPS', color='classification',\n",
    "                           color_continuous_scale=\"Viridis\",\n",
    "                           range_color=(0, 10),\n",
    "                           scope=\"usa\",\n",
    "                           labels={'classification':'cluster'}\n",
    "                          )\n",
    "fig.update_layout(margin={\"r\":0,\"t\":0,\"l\":0,\"b\":0})\n",
    "fig.show()"
   ]
  }
 ],
 "metadata": {
  "kernelspec": {
   "display_name": "Python 3",
   "language": "python",
   "name": "python3"
  },
  "language_info": {
   "codemirror_mode": {
    "name": "ipython",
    "version": 3
   },
   "file_extension": ".py",
   "mimetype": "text/x-python",
   "name": "python",
   "nbconvert_exporter": "python",
   "pygments_lexer": "ipython3",
   "version": "3.6.13"
  }
 },
 "nbformat": 4,
 "nbformat_minor": 5
}

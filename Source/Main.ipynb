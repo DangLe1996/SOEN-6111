{
 "cells": [
  {
   "cell_type": "markdown",
   "metadata": {
    "collapsed": true,
    "pycharm": {
     "name": "#%% md\n"
    }
   },
   "source": [
    "# Covid 19 US cases analysis\n",
    "\n",
    "\n",
    "In this notebook, we will present the steps and results that are used to analyze COVIS 19 cases\n",
    "data set from New York Times. This dataset is updated daily on github and therefore\n",
    "represent an accurate number of confirmed cases in US counties over time.\n",
    "<br>\n",
    "## Data preliminary analysis\n",
    "First we would like to introduce the dataset, which can be obtained from https://raw.githubusercontent.com/nytimes/covid-19-data/master/us-counties.csv.\n",
    "<br>"
   ]
  },
  {
   "cell_type": "code",
   "execution_count": 78,
   "outputs": [],
   "source": [
    "import pandas as pd\n",
    "import matplotlib.pyplot as plt\n",
    "import numpy as np\n",
    "from sklearn.metrics import silhouette_score, davies_bouldin_score\n",
    "from sklearn.cluster import AgglomerativeClustering"
   ],
   "metadata": {
    "collapsed": false,
    "pycharm": {
     "name": "#%%\n"
    }
   }
  },
  {
   "cell_type": "code",
   "execution_count": 7,
   "outputs": [
    {
     "data": {
      "text/plain": "         date     county       state   fips  cases  deaths\n0  2020-01-21  Snohomish  Washington  53061      1     0.0\n1  2020-01-22  Snohomish  Washington  53061      1     0.0\n2  2020-01-23  Snohomish  Washington  53061      1     0.0\n3  2020-01-24       Cook    Illinois  17031      1     0.0\n4  2020-01-24  Snohomish  Washington  53061      1     0.0",
      "text/html": "<div>\n<style scoped>\n    .dataframe tbody tr th:only-of-type {\n        vertical-align: middle;\n    }\n\n    .dataframe tbody tr th {\n        vertical-align: top;\n    }\n\n    .dataframe thead th {\n        text-align: right;\n    }\n</style>\n<table border=\"1\" class=\"dataframe\">\n  <thead>\n    <tr style=\"text-align: right;\">\n      <th></th>\n      <th>date</th>\n      <th>county</th>\n      <th>state</th>\n      <th>fips</th>\n      <th>cases</th>\n      <th>deaths</th>\n    </tr>\n  </thead>\n  <tbody>\n    <tr>\n      <th>0</th>\n      <td>2020-01-21</td>\n      <td>Snohomish</td>\n      <td>Washington</td>\n      <td>53061</td>\n      <td>1</td>\n      <td>0.0</td>\n    </tr>\n    <tr>\n      <th>1</th>\n      <td>2020-01-22</td>\n      <td>Snohomish</td>\n      <td>Washington</td>\n      <td>53061</td>\n      <td>1</td>\n      <td>0.0</td>\n    </tr>\n    <tr>\n      <th>2</th>\n      <td>2020-01-23</td>\n      <td>Snohomish</td>\n      <td>Washington</td>\n      <td>53061</td>\n      <td>1</td>\n      <td>0.0</td>\n    </tr>\n    <tr>\n      <th>3</th>\n      <td>2020-01-24</td>\n      <td>Cook</td>\n      <td>Illinois</td>\n      <td>17031</td>\n      <td>1</td>\n      <td>0.0</td>\n    </tr>\n    <tr>\n      <th>4</th>\n      <td>2020-01-24</td>\n      <td>Snohomish</td>\n      <td>Washington</td>\n      <td>53061</td>\n      <td>1</td>\n      <td>0.0</td>\n    </tr>\n  </tbody>\n</table>\n</div>"
     },
     "execution_count": 7,
     "metadata": {},
     "output_type": "execute_result"
    }
   ],
   "source": [
    "total_live_data = \"https://raw.githubusercontent.com/nytimes/covid-19-data/master/us-counties.csv\"\n",
    "liveData = pd.read_csv(total_live_data,  dtype={\"fips\": str})\n",
    "liveData.head(5)"
   ],
   "metadata": {
    "collapsed": false,
    "pycharm": {
     "name": "#%%\n"
    }
   }
  },
  {
   "cell_type": "code",
   "source": [
    "print(f'Number of rows are {len(liveData)}')\n",
    "print(f'Number of counties are {len(liveData.county.unique())}')\n",
    "print(f'Number of distinct dates are {len(liveData.date.unique())}')\n",
    "print(f'Number of distinct fips are {len(liveData.fips.unique())}')"
   ],
   "metadata": {
    "collapsed": false,
    "pycharm": {
     "name": "#%%\n"
    }
   },
   "execution_count": 23,
   "outputs": [
    {
     "name": "stdout",
     "output_type": "stream",
     "text": [
      "Number of rows are 1193105\n",
      "Number of counties are 1930\n",
      "Number of distinct dates are 441\n",
      "Number of distinct fips are 3219\n"
     ]
    }
   ]
  },
  {
   "cell_type": "markdown",
   "source": [
    "As shown above, the data we are using have 6 columns, with date represent record date, county\n",
    "is the name of the county that report the case, state is the name of the state that county belong\n",
    "to, fips represents the Federal Information Processing Standards number that is unique for each\n",
    "county, cases record the number of confirmed cases and deaths is the number of confirmed dead from\n",
    "COVID in each county. There are over 1 millions rows of data given, with 1,930 counties reporting\n",
    "covid cases over the time period of 441 days. Furthermore, we can see that there are over three\n",
    "thousands fips numbers, which is almost twice as many counties, meaning that each county can\n",
    "be broken further down into smaller regions represent by fips.\n",
    "<br>\n",
    "Because the given data is already sorted by date, we can see that Washing was the first\n",
    "state reported confirmed case, which is quite interesting. Furthermore, the data is very sparse in\n",
    "the early stage of the time interval, thus making it quite difficult for clustering because there\n",
    "are not enough information. Thus, we decided to transform the data into matrix form, with\n",
    "the rows represent each fips, the column represent the date and the value is number of\n",
    "confirmed cases for each county at a given day.\n",
    "<br>\n",
    "To start this transformation, we first observe that we only need 3 columns, date, fips and cases,\n",
    "because we can deduce the state and county from any given fips. Also the deaths confirmed number\n",
    "contains many zero, so we decided to drop that column."
   ],
   "metadata": {
    "collapsed": false,
    "pycharm": {
     "name": "#%% md\n"
    }
   }
  },
  {
   "cell_type": "code",
   "execution_count": 50,
   "outputs": [],
   "source": [
    "covidData = liveData[['date','fips','cases']]\n",
    "groupByFips = covidData.set_index('date').groupby('fips')"
   ],
   "metadata": {
    "collapsed": false,
    "pycharm": {
     "name": "#%%\n"
    }
   }
  },
  {
   "cell_type": "code",
   "execution_count": 57,
   "outputs": [
    {
     "data": {
      "text/plain": "count      3218.000000\nmean       3301.608556\nstd       11661.757076\nmin           1.000000\n25%         364.626488\n50%         849.440001\n75%        2165.895579\nmax      382041.490826\nName: cases, dtype: float64"
     },
     "execution_count": 57,
     "metadata": {},
     "output_type": "execute_result"
    }
   ],
   "source": [
    "groupByFips.cases.mean().describe()"
   ],
   "metadata": {
    "collapsed": false,
    "pycharm": {
     "name": "#%%\n"
    }
   }
  },
  {
   "cell_type": "markdown",
   "source": [
    "After grouping the data by fips number, we calculate the means value of cases reported and call\n",
    "the describe method to find some statistics. Looking the count of 3218 which equals to the number\n",
    "of fips we find above and confirm that the group by is correct.\n",
    "<br>\n",
    "Looking at the mean and standard deviation value, we can see that the data is more spread out, which\n",
    "indicate that clustering technique would be useful in this application to identify and group\n",
    "similar data points. Furthermore, from the distribution information, we can see that there are\n",
    "abnormally, where some group have mean value of only 1 cases, and some having over three hundred\n",
    "thousands cases.\n",
    "<br>\n"
   ],
   "metadata": {
    "collapsed": false,
    "pycharm": {
     "name": "#%% md\n"
    }
   }
  },
  {
   "cell_type": "code",
   "execution_count": 84,
   "outputs": [
    {
     "name": "stderr",
     "output_type": "stream",
     "text": [
      "<ipython-input-84-8a09abc1e54b>:5: MatplotlibDeprecationWarning: The 'nonposy' parameter of __init__() has been renamed 'nonpositive' since Matplotlib 3.3; support for the old name will be dropped two minor releases later.\n",
      "  plt.yscale('log', nonposy='clip')\n"
     ]
    },
    {
     "data": {
      "text/plain": "<Figure size 432x288 with 1 Axes>",
      "image/png": "[encoded data removed]"
     },
     "metadata": {
      "needs_background": "light"
     },
     "output_type": "display_data"
    }
   ],
   "source": [
    "plt.hist(list(groupByFips.cases.mean()))\n",
    "plt.rcParams['axes.facecolor'] = 'white'\n",
    "plt.ylabel('Occurences')\n",
    "plt.xlabel('Mean Daily covid cases')\n",
    "plt.yscale('log', nonposy='clip')"
   ],
   "metadata": {
    "collapsed": false,
    "pycharm": {
     "name": "#%%\n"
    }
   }
  },
  {
   "cell_type": "markdown",
   "source": [
    "Using the histogram graph, we can see that the majority of counties have mean COVID-19 cases of less\n",
    "than 75,000. However, there are regions with significantly more daily cases, and we suspect these regions to be highly\n",
    "populated, however we will only be confirmed this hypothesis when doing the clustering. Also note that the graph is converted\n",
    "to log scale for cleaner representation."
   ],
   "metadata": {
    "collapsed": false,
    "pycharm": {
     "name": "#%% md\n"
    }
   }
  },
  {
   "cell_type": "markdown",
   "source": [
    "## Clustering\n",
    "In the section, we will discuss our implementation of K-Means and Hierachical Clustering to the presented dataset above."
   ],
   "metadata": {
    "collapsed": false,
    "pycharm": {
     "name": "#%% md\n"
    }
   }
  },
  {
   "cell_type": "code",
   "execution_count": null,
   "outputs": [],
   "source": [
    "fips = list(groupByFips.fips.groups.keys())\n",
    "resultgroupBy = groupByFips['cases'].apply(list).reset_index(name = 'new')"
   ],
   "metadata": {
    "collapsed": false,
    "pycharm": {
     "name": "#%%\n"
    }
   }
  },
  {
   "cell_type": "code",
   "execution_count": 32,
   "outputs": [
    {
     "data": {
      "text/plain": "count      3218.000000\nmean       3301.608556\nstd       11661.757076\nmin           1.000000\n25%         364.626488\n50%         849.440001\n75%        2165.895579\nmax      382041.490826\nName: cases, dtype: float64"
     },
     "execution_count": 32,
     "metadata": {},
     "output_type": "execute_result"
    }
   ],
   "source": [],
   "metadata": {
    "collapsed": false,
    "pycharm": {
     "name": "#%%\n"
    }
   }
  },
  {
   "cell_type": "code",
   "execution_count": null,
   "outputs": [],
   "source": [
    "\n",
    "\n",
    "\n",
    "\n",
    "\n",
    "\n",
    "\n",
    "\n",
    "\n",
    "\n",
    "\n",
    "\n",
    "\n",
    "\n",
    "\n",
    "\n",
    "\n"
   ],
   "metadata": {
    "collapsed": false,
    "pycharm": {
     "name": "#%%\n"
    }
   }
  }
 ],
 "metadata": {
  "kernelspec": {
   "display_name": "Python 3",
   "language": "python",
   "name": "python3"
  },
  "language_info": {
   "codemirror_mode": {
    "name": "ipython",
    "version": 2
   },
   "file_extension": ".py",
   "mimetype": "text/x-python",
   "name": "python",
   "nbconvert_exporter": "python",
   "pygments_lexer": "ipython2",
   "version": "2.7.6"
  }
 },
 "nbformat": 4,
 "nbformat_minor": 0
}